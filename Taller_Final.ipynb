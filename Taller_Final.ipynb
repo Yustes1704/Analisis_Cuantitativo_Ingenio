{
  "nbformat": 4,
  "nbformat_minor": 0,
  "metadata": {
    "colab": {
      "provenance": []
    },
    "kernelspec": {
      "name": "python3",
      "display_name": "Python 3"
    },
    "language_info": {
      "name": "python"
    }
  },
  "cells": [
    {
      "cell_type": "code",
      "execution_count": 3,
      "metadata": {
        "id": "36oaZvDdG99V",
        "colab": {
          "base_uri": "https://localhost:8080/"
        },
        "outputId": "3d2f1b75-8a2a-4ed1-b903-29f29ccd075e"
      },
      "outputs": [
        {
          "output_type": "stream",
          "name": "stdout",
          "text": [
            "Drive already mounted at /content/drive; to attempt to forcibly remount, call drive.mount(\"/content/drive\", force_remount=True).\n"
          ]
        }
      ],
      "source": [
        "import pandas as pd\n",
        "import numpy as np\n",
        "import matplotlib.pyplot as plt\n",
        "import seaborn as sns\n",
        "import sklearn as sk\n",
        "\n",
        "from google.colab import drive\n",
        "drive.mount('/content/drive')"
      ]
    },
    {
      "cell_type": "code",
      "source": [
        "df = pd.read_excel('/content/drive/MyDrive/COLABS MCD/Taller práctico A. Cuanti/HISTORICO_SUERTES.xlsx')"
      ],
      "metadata": {
        "id": "QuYa5EnGb0sA"
      },
      "execution_count": 4,
      "outputs": []
    },
    {
      "cell_type": "code",
      "source": [
        "df.shape"
      ],
      "metadata": {
        "colab": {
          "base_uri": "https://localhost:8080/"
        },
        "id": "1mPQTLBGcq9o",
        "outputId": "d0f93618-fbe4-4e23-86d6-8e9d5122570e"
      },
      "execution_count": 5,
      "outputs": [
        {
          "output_type": "execute_result",
          "data": {
            "text/plain": [
              "(21027, 85)"
            ]
          },
          "metadata": {},
          "execution_count": 5
        }
      ]
    },
    {
      "cell_type": "code",
      "source": [
        "df.info()"
      ],
      "metadata": {
        "colab": {
          "base_uri": "https://localhost:8080/"
        },
        "id": "xwcp9yyicucZ",
        "outputId": "9a56e4af-33e6-4392-da3c-0334bc136aee"
      },
      "execution_count": 6,
      "outputs": [
        {
          "output_type": "stream",
          "name": "stdout",
          "text": [
            "<class 'pandas.core.frame.DataFrame'>\n",
            "RangeIndex: 21027 entries, 0 to 21026\n",
            "Data columns (total 85 columns):\n",
            " #   Column                     Non-Null Count  Dtype         \n",
            "---  ------                     --------------  -----         \n",
            " 0   Período                    21027 non-null  int64         \n",
            " 1   Hacienda                   21027 non-null  int64         \n",
            " 2   Nombre                     21027 non-null  object        \n",
            " 3   Zona                       21027 non-null  object        \n",
            " 4   Tenencia                   21026 non-null  float64       \n",
            " 5   Suerte                     21027 non-null  object        \n",
            " 6   Suelo                      17269 non-null  object        \n",
            " 7   Area Neta                  21027 non-null  float64       \n",
            " 8   Dist Km                    21022 non-null  float64       \n",
            " 9   Variedad                   21027 non-null  object        \n",
            " 10  Cod.Estado #               21027 non-null  int64         \n",
            " 11  Cod.Estado                 21027 non-null  object        \n",
            " 12  F.Siembra                  21027 non-null  datetime64[ns]\n",
            " 13  D.S.                       7168 non-null   object        \n",
            " 14  Ult.Riego                  8470 non-null   datetime64[ns]\n",
            " 15  Edad Ult Cos               21027 non-null  float64       \n",
            " 16  F.Ult.Corte                21027 non-null  datetime64[ns]\n",
            " 17  Destino 1=Semilla          21027 non-null  int64         \n",
            " 18  Cod. T.Cultivo             21025 non-null  float64       \n",
            " 19  Cultivo                    21025 non-null  object        \n",
            " 20  Fec.Madur.                 11252 non-null  datetime64[ns]\n",
            " 21  Producto                   11249 non-null  object        \n",
            " 22  Dosis Madurante            20923 non-null  float64       \n",
            " 23  Semanas mad.               11252 non-null  float64       \n",
            " 24  TonUltCorte                21027 non-null  float64       \n",
            " 25  TCH                        21027 non-null  float64       \n",
            " 26  TCHM                       21027 non-null  float64       \n",
            " 27  Ton.Azucar                 20786 non-null  float64       \n",
            " 28  Rdto                       20760 non-null  float64       \n",
            " 29  TAH                        20786 non-null  float64       \n",
            " 30  TAHM                       20786 non-null  float64       \n",
            " 31  Sac.Caña Precosecha        19929 non-null  float64       \n",
            " 32  Edad.Precosecha            8919 non-null   float64       \n",
            " 33  %Sac.Caña                  20578 non-null  float64       \n",
            " 34  %Sac.Muestreadora          19169 non-null  float64       \n",
            " 35  %ATR                       20505 non-null  float64       \n",
            " 36  KATRHM                     20505 non-null  float64       \n",
            " 37  %Fibra Caña                19169 non-null  float64       \n",
            " 38  %AR Jugo                   18903 non-null  float64       \n",
            " 39  %ME Min                    19305 non-null  float64       \n",
            " 40  %ME Veg                    19307 non-null  float64       \n",
            " 41  %ME Tot                    19307 non-null  float64       \n",
            " 42  Brix                       20760 non-null  float64       \n",
            " 43  Pureza                     20758 non-null  float64       \n",
            " 44  Vejez                      18582 non-null  float64       \n",
            " 45  Tipo Quema                 21027 non-null  object        \n",
            " 46  T.Corte                    21027 non-null  object        \n",
            " 47  Cerca de                   20901 non-null  object        \n",
            " 48  Cosechó                    21027 non-null  object        \n",
            " 49  Num.Riegos                 8438 non-null   float64       \n",
            " 50  M3 Riego                   21027 non-null  float64       \n",
            " 51  DDUlt.Riego                21027 non-null  int64         \n",
            " 52  Lluvias (2 Meses Ant.)     21027 non-null  float64       \n",
            " 53  Lluvias Ciclo              21027 non-null  float64       \n",
            " 54  Lluvias 0 -3               21027 non-null  float64       \n",
            " 55  Lluvias tres a seis        21027 non-null  float64       \n",
            " 56  Lluvias seis a nueve       21027 non-null  float64       \n",
            " 57  Luvias 9 -FC               21027 non-null  float64       \n",
            " 58  %Infest.Diatrea            5600 non-null   float64       \n",
            " 59  Fosfato Jugo               19169 non-null  float64       \n",
            " 60  Fert.Nitrogen.             0 non-null      float64       \n",
            " 61  Urea 46%                   723 non-null    float64       \n",
            " 62  MEZ                        971 non-null    float64       \n",
            " 63  Boro Granul.               1285 non-null   float64       \n",
            " 64  MicroZinc                  1149 non-null   float64       \n",
            " 65  NITO_XTEND                 3679 non-null   float64       \n",
            " 66  Sul.Amonio                 1357 non-null   float64       \n",
            " 67  NITRAX-S                   748 non-null    float64       \n",
            " 68  Vinaza                     4098 non-null   float64       \n",
            " 69  Codigo Estacion            6285 non-null   object        \n",
            " 70  Temp. Media 0-3            4530 non-null   float64       \n",
            " 71  Temp. Media Ciclo          4530 non-null   float64       \n",
            " 72  Temp Max Ciclo             4530 non-null   float64       \n",
            " 73  Temp Min Ciclo             4530 non-null   float64       \n",
            " 74  Humedad Rel Media 0-3      4530 non-null   float64       \n",
            " 75  Humedad Rel Media Ciclo    4530 non-null   float64       \n",
            " 76  Oscilacion Temp Med 0-3    4530 non-null   float64       \n",
            " 77  Oscilacion Temp Ciclo      4530 non-null   float64       \n",
            " 78  Sum Oscilacion Temp Ciclo  0 non-null      float64       \n",
            " 79  Radicion Solar 0-3         4530 non-null   float64       \n",
            " 80  Radiacion Solar Ciclo      4530 non-null   float64       \n",
            " 81  Precipitacion 0_3          4530 non-null   float64       \n",
            " 82  Precipitacion Ciclo        4530 non-null   float64       \n",
            " 83  Evaporacion 0-3            4530 non-null   float64       \n",
            " 84  Evaporacion Ciclo          4530 non-null   float64       \n",
            "dtypes: datetime64[ns](4), float64(62), int64(5), object(14)\n",
            "memory usage: 13.6+ MB\n"
          ]
        }
      ]
    },
    {
      "cell_type": "code",
      "source": [],
      "metadata": {
        "id": "QDvcpijXdMWx"
      },
      "execution_count": null,
      "outputs": []
    },
    {
      "cell_type": "markdown",
      "source": [],
      "metadata": {
        "id": "RBE7k_P6b0MO"
      }
    },
    {
      "cell_type": "code",
      "metadata": {
        "colab": {
          "base_uri": "https://localhost:8080/"
        },
        "id": "a5e19a6c",
        "outputId": "fa9adc09-8222-457d-9075-f70fbd642583"
      },
      "source": [
        "# Specify the threshold for null values\n",
        "null_threshold = 0.2 # For example, keep columns with less than 50% null values\n",
        "\n",
        "# Calculate the percentage of null values for each column\n",
        "null_percentages = df.isnull().mean()\n",
        "\n",
        "# Get the columns that meet the threshold\n",
        "columns_to_keep = null_percentages[null_percentages <= null_threshold].index.tolist()\n",
        "\n",
        "# Create a new DataFrame with only the selected columns\n",
        "df_filtered = df[columns_to_keep]\n",
        "\n",
        "# Display the shape of the filtered DataFrame\n",
        "print(f\"Original shape: {df.shape}\")\n",
        "print(f\"Filtered shape: {df_filtered.shape}\")\n",
        "\n",
        "# Display the list of columns kept\n",
        "print(\"\\nColumns kept:\")\n",
        "print(columns_to_keep)"
      ],
      "execution_count": 8,
      "outputs": [
        {
          "output_type": "stream",
          "name": "stdout",
          "text": [
            "Original shape: (21027, 85)\n",
            "Filtered shape: (21027, 52)\n",
            "\n",
            "Columns kept:\n",
            "['Período', 'Hacienda', 'Nombre', 'Zona', 'Tenencia', 'Suerte', 'Suelo', 'Area Neta', 'Dist Km', 'Variedad', 'Cod.Estado #', 'Cod.Estado', 'F.Siembra', 'Edad Ult Cos', 'F.Ult.Corte', 'Destino 1=Semilla', 'Cod. T.Cultivo', 'Cultivo', 'Dosis Madurante', 'TonUltCorte', 'TCH', 'TCHM', 'Ton.Azucar', 'Rdto', 'TAH', 'TAHM', 'Sac.Caña Precosecha', '%Sac.Caña', '%Sac.Muestreadora', '%ATR', 'KATRHM', '%Fibra Caña', '%AR Jugo', '%ME Min', '%ME Veg', '%ME Tot', 'Brix', 'Pureza', 'Vejez', 'Tipo Quema', 'T.Corte', 'Cerca de', 'Cosechó', 'M3 Riego', 'DDUlt.Riego', 'Lluvias (2 Meses Ant.)', 'Lluvias Ciclo', 'Lluvias 0 -3', 'Lluvias tres a seis', 'Lluvias seis a nueve', 'Luvias 9 -FC', 'Fosfato Jugo']\n"
          ]
        }
      ]
    }
  ]
}